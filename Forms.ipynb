{
  "nbformat": 4,
  "nbformat_minor": 0,
  "metadata": {
    "colab": {
      "name": "Forms",
      "version": "0.3.2",
      "provenance": [],
      "collapsed_sections": [],
      "toc_visible": true
    },
    "kernelspec": {}
  },
  "cells": [
    {
      "cell_type": "markdown",
      "metadata": {
        "id": "view-in-github",
        "colab_type": "text"
      },
      "source": [
        "[View in Colaboratory](https://colab.research.google.com/github/yuanhaorannnnnn/Colaboratory_google/blob/master/Forms.ipynb)"
      ]
    },
    {
      "metadata": {
        "id": "_7gRpQLXQSID",
        "colab_type": "text"
      },
      "cell_type": "markdown",
      "source": [
        "# Forms\n",
        "\n",
        "Forms provide an easy way to parameterize code. From a code cell, select **Insert → Add form field**.  When you change the value in a form, the corresponding value in the code will change. "
      ]
    },
    {
      "metadata": {
        "id": "3jKM6GfzlgpS",
        "colab_type": "code",
        "colab": {}
      },
      "cell_type": "code",
      "source": [
        "#@title String fields\n",
        "\n",
        "text = 'value' #@param {type:\"string\"}\n",
        "dropdown = '1st option' #@param [\"1st option\", \"2nd option\", \"3rd option\"]\n",
        "text_and_dropdown = 'value' #@param [\"1st option\", \"2nd option\", \"3rd option\"] {allow-input: true}\n",
        "\n",
        "print(text)\n",
        "print(dropdown)\n",
        "print(text_and_dropdown)"
      ],
      "execution_count": 0,
      "outputs": []
    },
    {
      "metadata": {
        "id": "bf5LUmgZt-kT",
        "colab_type": "code",
        "colab": {}
      },
      "cell_type": "code",
      "source": [
        "#@title Raw fields\n",
        "\n",
        "raw_input = None #@param {type:\"raw\"}\n",
        "raw_dropdown = raw_input #@param [1, \"raw_input\", \"False\", \"'string'\"] {type:\"raw\"}\n",
        "\n",
        "print(raw_input)\n",
        "print(raw_dropdown)"
      ],
      "execution_count": 0,
      "outputs": []
    },
    {
      "metadata": {
        "id": "aw5lgeRbubeF",
        "colab_type": "code",
        "colab": {}
      },
      "cell_type": "code",
      "source": [
        "#@title Date fields\n",
        "date_input = '2018-03-22' #@param {type:\"date\"}\n",
        "\n",
        "print(date_input)"
      ],
      "execution_count": 0,
      "outputs": []
    },
    {
      "metadata": {
        "id": "eFN7-fUKs-Bu",
        "colab_type": "code",
        "colab": {}
      },
      "cell_type": "code",
      "source": [
        "#@title Number fields\n",
        "number_input = 10.0 #@param {type:\"number\"}\n",
        "number_slider = 0 #@param {type:\"slider\", min:-1, max:1, step:0.1}\n",
        "\n",
        "integer_input = 10 #@param {type:\"integer\"}\n",
        "integer_slider = 1 #@param {type:\"slider\", min:0, max:100, step:1}\n",
        "\n",
        "print(number_input)\n",
        "print(number_slider)\n",
        "\n",
        "print(integer_input)\n",
        "print(integer_slider)"
      ],
      "execution_count": 0,
      "outputs": []
    },
    {
      "metadata": {
        "id": "ig8PIYeLtM8g",
        "colab_type": "code",
        "colab": {}
      },
      "cell_type": "code",
      "source": [
        "#@title Boolean fields\n",
        "boolean_checkbox = True #@param {type:\"boolean\"}\n",
        "boolean_dropdown = True #@param [\"False\", \"True\"] {type:\"raw\"}\n",
        "\n",
        "print(boolean_checkbox)\n",
        "print(boolean_dropdown)"
      ],
      "execution_count": 0,
      "outputs": []
    },
    {
      "metadata": {
        "id": "hVEG5D5TxFKW",
        "colab_type": "text"
      },
      "cell_type": "markdown",
      "source": [
        "# Hiding code\n",
        "\n",
        "You can change the view of the form by selecting **Edit → Show/hide code** or using the toolbar above the selected code cell. You can see both code and the form, just the form, or just the code."
      ]
    },
    {
      "metadata": {
        "id": "ad-fjFOQxoFG",
        "colab_type": "code",
        "colab": {}
      },
      "cell_type": "code",
      "source": [
        "#@title Double click on this line in the code cell. { display-mode: \"form\" }\n",
        "\n",
        "option1 = 'A' #@param [\"A\", \"B\", \"C\"]\n",
        "print('You selected', option1)\n"
      ],
      "execution_count": 0,
      "outputs": []
    },
    {
      "metadata": {
        "id": "h9aZYKhly2h_",
        "colab_type": "code",
        "colab": {}
      },
      "cell_type": "code",
      "source": [
        "#@title After running this cell manually, it will auto-run if you change the selected value. { run: \"auto\" }\n",
        "\n",
        "option2 = \"A\" #@param [\"A\", \"B\", \"C\"]\n",
        "print('You selected', option2)\n"
      ],
      "execution_count": 0,
      "outputs": []
    }
  ]
}